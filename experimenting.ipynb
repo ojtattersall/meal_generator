{
 "cells": [
  {
   "cell_type": "code",
   "execution_count": 22,
   "id": "6d404be8-9bdf-4697-ac83-1613c4953a7b",
   "metadata": {},
   "outputs": [],
   "source": [
    "import numpy as np\n",
    "from bs4 import BeautifulSoup as BS\n",
    "import requests"
   ]
  },
  {
   "cell_type": "code",
   "execution_count": 62,
   "id": "ae5d4b0d-fded-4166-955c-dfb788dda75a",
   "metadata": {},
   "outputs": [],
   "source": [
    "text = requests.get('https://www.nigella.com/recipes/search?term=ham&occasion=&theme=').text\n",
    "soup = BS(text)"
   ]
  },
  {
   "cell_type": "code",
   "execution_count": 63,
   "id": "e459fb9e-708f-4e84-bfc5-c2d197bb7eb3",
   "metadata": {},
   "outputs": [],
   "source": [
    "results = soup.find_all(\"a\")"
   ]
  },
  {
   "cell_type": "code",
   "execution_count": 64,
   "id": "8b91c468-2f0d-4e59-9e98-68080085a5c7",
   "metadata": {},
   "outputs": [
    {
     "data": {
      "text/plain": [
       "51"
      ]
     },
     "execution_count": 64,
     "metadata": {},
     "output_type": "execute_result"
    }
   ],
   "source": [
    "len(results)"
   ]
  },
  {
   "cell_type": "code",
   "execution_count": 68,
   "id": "b90c3978-1be9-4998-b359-f45ccdc97f81",
   "metadata": {},
   "outputs": [
    {
     "data": {
      "text/plain": [
       "<a href=\"/recipes/prosciutto-wrapped-grissini\"></a>"
      ]
     },
     "execution_count": 68,
     "metadata": {},
     "output_type": "execute_result"
    }
   ],
   "source": [
    "results[38]"
   ]
  },
  {
   "cell_type": "code",
   "execution_count": 66,
   "id": "98634405-3851-4977-9730-3418d4fff693",
   "metadata": {},
   "outputs": [
    {
     "data": {
      "text/plain": [
       "[<a href=\"/recipes\">Recipes</a>,\n",
       " <a href=\"/ask\">Ask Nigella.com</a>,\n",
       " <a href=\"/tips\">Tips</a>,\n",
       " <a href=\"/cookalong\">Cookalong</a>,\n",
       " <a href=\"/latest\">Latest</a>,\n",
       " <a href=\"/cookbook-corner\">Cookbook Corner</a>,\n",
       " <a href=\"/books\">Books</a>,\n",
       " <a href=\"/videos\">Videos</a>,\n",
       " <a href=\"/products\">Products</a>,\n",
       " <a href=\"https://www.facebook.com/NigellaLawson\" target=\"_blank\">\n",
       " <svg><use xlink:href=\"#facebook\"></use></svg>\n",
       " </a>,\n",
       " <a href=\"https://twitter.com/nigella_lawson\" target=\"_blank\">\n",
       " <svg><use xlink:href=\"#twitter\"></use></svg>\n",
       " </a>,\n",
       " <a href=\"https://www.youtube.com/channel/UC7jM43otyf2_Ye_DBrQYKfg\" target=\"_blank\">\n",
       " <svg><use xlink:href=\"#youtube\"></use></svg>\n",
       " </a>,\n",
       " <a href=\"https://uk.pinterest.com/nigellalawson\" target=\"_blank\">\n",
       " <svg><use xlink:href=\"#pinterest\"></use></svg>\n",
       " </a>,\n",
       " <a href=\"https://instagram.com/nigellalawson\" target=\"_blank\">\n",
       " <svg><use xlink:href=\"#instagram\"></use></svg>\n",
       " </a>,\n",
       " <a href=\"/your-account\">Your Account</a>,\n",
       " <a href=\"/your-bookmarks\">Your Bookmarks</a>,\n",
       " <a @click=\"signOut\" href=\"/sign-out\">Sign out</a>,\n",
       " <a @click.prevent=\"openMenu\" class=\"navigation\">\n",
       " <svg><use xlink:href=\"#nav\"></use></svg>\n",
       " <span>Menu</span>\n",
       " </a>,\n",
       " <a class=\"brand main\" href=\"/\">\n",
       " <svg><use xlink:href=\"#logo\"></use></svg>\n",
       " </a>,\n",
       " <a href=\"https://www.facebook.com/NigellaLawson\" target=\"_blank\">\n",
       " <svg><use xlink:href=\"#facebook\"></use></svg>\n",
       " </a>,\n",
       " <a href=\"https://twitter.com/nigella_lawson\" target=\"_blank\">\n",
       " <svg><use xlink:href=\"#twitter\"></use></svg>\n",
       " </a>,\n",
       " <a href=\"https://www.youtube.com/channel/UC7jM43otyf2_Ye_DBrQYKfg\" target=\"_blank\">\n",
       " <svg><use xlink:href=\"#youtube\"></use></svg>\n",
       " </a>,\n",
       " <a href=\"https://uk.pinterest.com/nigellalawson\" target=\"_blank\">\n",
       " <svg><use xlink:href=\"#pinterest\"></use></svg>\n",
       " </a>,\n",
       " <a href=\"https://instagram.com/nigellalawson\" target=\"_blank\">\n",
       " <svg><use xlink:href=\"#instagram\"></use></svg>\n",
       " </a>,\n",
       " <a @click.prevent=\"searchTrigger(false, false)\" class=\"search search-overlay-trigger\">\n",
       " <svg><use xlink:href=\"#search\"></use></svg>\n",
       " </a>,\n",
       " <a :class=\"{'logged-in': member.authenticated}\" @click.prevent=\"loginOrAccount\" class=\"user\">\n",
       " <svg class=\"out\"><use xlink:href=\"#member\"></use></svg>\n",
       " <img alt=\"Signed In\" class=\"in\" src=\"/assets/img/user-signed-in.svg\"/>\n",
       " </a>,\n",
       " <a @click.prevent=\"searchTrigger(true, true)\" class=\"button soft-pinline search-overlay-trigger\">Refine your search</a>,\n",
       " <a href=\"/recipes/ginger-glazed-ham\"></a>,\n",
       " <a href=\"/recipes/green-eggs-and-ham\"></a>,\n",
       " <a href=\"/recipes/pasta-with-ham-peas-and-cream\"></a>,\n",
       " <a href=\"/recipes/slow-cooked-black-treacle-ham\"></a>,\n",
       " <a href=\"/recipes/ham-in-coca-cola\"></a>,\n",
       " <a href=\"/recipes/red-leaf-fig-and-serrano-ham-salad\"></a>,\n",
       " <a href=\"/recipes/monkfish-wrapped-in-rosemary-lemon-parma-ham\"></a>,\n",
       " <a href=\"/recipes/ham-in-coca-cola-how-to-eat\"></a>,\n",
       " <a href=\"/recipes/quesadillas\"></a>,\n",
       " <a href=\"/recipes/gammon-steaks-with-parsley\"></a>,\n",
       " <a href=\"/recipes/croque-monsieur-bake\"></a>,\n",
       " <a href=\"/recipes/prosciutto-wrapped-grissini\"></a>,\n",
       " <a class=\"button soft-pinline\" data-from=\"12\" data-size=\"12\" data-total=\"34\" v-load-more=\"\"><span>Show more recipes</span></a>,\n",
       " <a @click.prevent=\"toggleFilters\" class=\"more-button search-toggle-filters\">More search options</a>,\n",
       " <a href=\"https://www.facebook.com/NigellaLawson\" target=\"_blank\">\n",
       " <svg><use xlink:href=\"#facebook\"></use></svg>\n",
       " </a>,\n",
       " <a href=\"https://twitter.com/nigella_lawson\" target=\"_blank\">\n",
       " <svg><use xlink:href=\"#twitter\"></use></svg>\n",
       " </a>,\n",
       " <a href=\"https://www.youtube.com/channel/UC7jM43otyf2_Ye_DBrQYKfg\" target=\"_blank\">\n",
       " <svg><use xlink:href=\"#youtube\"></use></svg>\n",
       " </a>,\n",
       " <a href=\"https://uk.pinterest.com/nigellalawson\" target=\"_blank\">\n",
       " <svg><use xlink:href=\"#pinterest\"></use></svg>\n",
       " </a>,\n",
       " <a href=\"https://instagram.com/nigellalawson\" target=\"_blank\">\n",
       " <svg><use xlink:href=\"#instagram\"></use></svg>\n",
       " </a>,\n",
       " <a href=\"/terms-and-conditions\">Terms</a>,\n",
       " <a href=\"/privacy-policy\">Privacy</a>,\n",
       " <a href=\"/cookie-policy\">Cookies</a>,\n",
       " <a href=\"/advertisers\">Advertisers</a>,\n",
       " <a href=\"https://embarknow.co.uk\" target=\"_blank\" title=\"Embark Media - Websites and apps\">Embark</a>]"
      ]
     },
     "execution_count": 66,
     "metadata": {},
     "output_type": "execute_result"
    }
   ],
   "source": [
    "results"
   ]
  },
  {
   "cell_type": "code",
   "execution_count": null,
   "id": "3a27ec8a-3895-4db4-b61b-8553993a8343",
   "metadata": {},
   "outputs": [],
   "source": []
  }
 ],
 "metadata": {
  "kernelspec": {
   "display_name": "Python 3 (ipykernel)",
   "language": "python",
   "name": "python3"
  },
  "language_info": {
   "codemirror_mode": {
    "name": "ipython",
    "version": 3
   },
   "file_extension": ".py",
   "mimetype": "text/x-python",
   "name": "python",
   "nbconvert_exporter": "python",
   "pygments_lexer": "ipython3",
   "version": "3.8.11"
  }
 },
 "nbformat": 4,
 "nbformat_minor": 5
}
