{
 "cells": [
  {
   "cell_type": "code",
   "execution_count": 102,
   "id": "6d404be8-9bdf-4697-ac83-1613c4953a7b",
   "metadata": {},
   "outputs": [],
   "source": [
    "import numpy as np\n",
    "from bs4 import BeautifulSoup as BS\n",
    "import requests"
   ]
  },
  {
   "cell_type": "code",
   "execution_count": 105,
   "id": "2e55f51d-4278-4f7e-a2dc-b3af7689c684",
   "metadata": {},
   "outputs": [],
   "source": [
    "from functions import nigella"
   ]
  },
  {
   "cell_type": "code",
   "execution_count": 109,
   "id": "d2b608b0-dfec-434d-bfba-0681d1dfe000",
   "metadata": {},
   "outputs": [],
   "source": [
    "def nigella(ingredient):\n",
    "    search_term = ingredient.replace(' ','+')\n",
    "    url = 'https://www.nigella.com/recipes/search?term='+search_term+'&occasion=&theme='\n",
    "    soup = BS(requests.get(url).text)\n",
    "    results = soup.find_all(\"a\")[27:38]\n",
    "    hrefs = [x['href'] for x in results]\n",
    "    choice = hrefs[np.random.randint(low=0,high=len(hrefs))]\n",
    "    return_url = \"https://www.nigella.com\"+choice\n",
    "    return return_url"
   ]
  },
  {
   "cell_type": "code",
   "execution_count": 110,
   "id": "73936b12-6d54-4ab0-be4f-b10a25233983",
   "metadata": {},
   "outputs": [
    {
     "data": {
      "text/plain": [
       "'https://www.nigella.com/recipes/chicken-and-pea-traybake'"
      ]
     },
     "execution_count": 110,
     "metadata": {},
     "output_type": "execute_result"
    }
   ],
   "source": [
    "nigella('chicken')"
   ]
  },
  {
   "cell_type": "code",
   "execution_count": 111,
   "id": "4f1bf0bc-da57-42be-bee7-808806a145a5",
   "metadata": {},
   "outputs": [],
   "source": [
    "func_dict = {'Nigella':nigella}"
   ]
  },
  {
   "cell_type": "code",
   "execution_count": 112,
   "id": "7c8fd40e-52db-4af9-a30f-2300c5ca5011",
   "metadata": {},
   "outputs": [
    {
     "data": {
      "text/plain": [
       "'https://www.nigella.com/recipes/lime-and-coriander-chicken'"
      ]
     },
     "execution_count": 112,
     "metadata": {},
     "output_type": "execute_result"
    }
   ],
   "source": [
    "func_dict['Nigella']('chicken')"
   ]
  },
  {
   "cell_type": "code",
   "execution_count": null,
   "id": "cc6cb766-e220-4a85-b60f-2f56fc776df3",
   "metadata": {},
   "outputs": [],
   "source": []
  }
 ],
 "metadata": {
  "kernelspec": {
   "display_name": "Python 3 (ipykernel)",
   "language": "python",
   "name": "python3"
  },
  "language_info": {
   "codemirror_mode": {
    "name": "ipython",
    "version": 3
   },
   "file_extension": ".py",
   "mimetype": "text/x-python",
   "name": "python",
   "nbconvert_exporter": "python",
   "pygments_lexer": "ipython3",
   "version": "3.8.11"
  }
 },
 "nbformat": 4,
 "nbformat_minor": 5
}
