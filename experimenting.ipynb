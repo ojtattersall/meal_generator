{
 "cells": [
  {
   "cell_type": "code",
   "execution_count": 22,
   "id": "6d404be8-9bdf-4697-ac83-1613c4953a7b",
   "metadata": {},
   "outputs": [],
   "source": [
    "import numpy as np\n",
    "from bs4 import BeautifulSoup as BS\n",
    "import requests"
   ]
  },
  {
   "cell_type": "code",
   "execution_count": 78,
   "id": "ae5d4b0d-fded-4166-955c-dfb788dda75a",
   "metadata": {},
   "outputs": [],
   "source": [
    "text = requests.get('https://www.olivemagazine.com/search/recipes/?q=pork').text\n",
    "soup = BS(text)"
   ]
  },
  {
   "cell_type": "code",
   "execution_count": 83,
   "id": "e459fb9e-708f-4e84-bfc5-c2d197bb7eb3",
   "metadata": {},
   "outputs": [],
   "source": [
    "results = soup.find_all(\"a\",class_=\"img-container img-container--portrait-thumbnail\")"
   ]
  },
  {
   "cell_type": "code",
   "execution_count": 84,
   "id": "8b91c468-2f0d-4e59-9e98-68080085a5c7",
   "metadata": {},
   "outputs": [
    {
     "data": {
      "text/plain": [
       "24"
      ]
     },
     "execution_count": 84,
     "metadata": {},
     "output_type": "execute_result"
    }
   ],
   "source": [
    "len(results)"
   ]
  },
  {
   "cell_type": "code",
   "execution_count": null,
   "id": "b90c3978-1be9-4998-b359-f45ccdc97f81",
   "metadata": {},
   "outputs": [],
   "source": []
  },
  {
   "cell_type": "code",
   "execution_count": 87,
   "id": "98634405-3851-4977-9730-3418d4fff693",
   "metadata": {},
   "outputs": [
    {
     "data": {
      "text/plain": [
       "'/recipes/entertain/pork-dumplings/'"
      ]
     },
     "execution_count": 87,
     "metadata": {},
     "output_type": "execute_result"
    }
   ],
   "source": [
    "results[0]['href']"
   ]
  },
  {
   "cell_type": "code",
   "execution_count": 69,
   "id": "3a27ec8a-3895-4db4-b61b-8553993a8343",
   "metadata": {},
   "outputs": [
    {
     "data": {
      "text/plain": [
       "'2.26.0'"
      ]
     },
     "execution_count": 69,
     "metadata": {},
     "output_type": "execute_result"
    }
   ],
   "source": [
    "requests.__version__"
   ]
  },
  {
   "cell_type": "code",
   "execution_count": null,
   "id": "1d97717b-242f-494a-8fea-93cc8057446f",
   "metadata": {},
   "outputs": [],
   "source": []
  }
 ],
 "metadata": {
  "kernelspec": {
   "display_name": "Python 3 (ipykernel)",
   "language": "python",
   "name": "python3"
  },
  "language_info": {
   "codemirror_mode": {
    "name": "ipython",
    "version": 3
   },
   "file_extension": ".py",
   "mimetype": "text/x-python",
   "name": "python",
   "nbconvert_exporter": "python",
   "pygments_lexer": "ipython3",
   "version": "3.8.11"
  }
 },
 "nbformat": 4,
 "nbformat_minor": 5
}
